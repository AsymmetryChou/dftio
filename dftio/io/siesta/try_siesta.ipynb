{
 "cells": [
  {
   "cell_type": "code",
   "execution_count": 93,
   "metadata": {},
   "outputs": [],
   "source": [
    "import sisl\n",
    "\n",
    "struct = sisl.get_sile(\"/personal/DeepTB/dptb_Zjj/DFTIO/dftio/test/data/siesta/siesta_out/RUN.fdf\").read_geometry()\n",
    "struct.write(\"STRUCT.xyz\")"
   ]
  },
  {
   "cell_type": "code",
   "execution_count": 96,
   "metadata": {},
   "outputs": [
    {
     "data": {
      "text/plain": [
       "4"
      ]
     },
     "execution_count": 96,
     "metadata": {},
     "output_type": "execute_result"
    }
   ],
   "source": [
    "struct.na"
   ]
  },
  {
   "cell_type": "code",
   "execution_count": 38,
   "metadata": {},
   "outputs": [
    {
     "data": {
      "text/plain": [
       "array([[0.     , 0.     , 0.     ],\n",
       "       [0.     , 2.03915, 2.03915],\n",
       "       [2.03915, 0.     , 2.03915],\n",
       "       [2.03915, 2.03915, 0.     ]], dtype=float32)"
      ]
     },
     "execution_count": 38,
     "metadata": {},
     "output_type": "execute_result"
    }
   ],
   "source": [
    "import numpy as np\n",
    "struct.xyz.astype(np.float32)"
   ]
  },
  {
   "cell_type": "code",
   "execution_count": 35,
   "metadata": {},
   "outputs": [],
   "source": [
    "from ...data import _keys\n",
    "import numpy as np\n",
    "structure = {\n",
    "    _keys.ATOMIC_NUMBERS_KEY: np.array([struct.atoms[i].Z for i in range(struct.na)], dtype=np.int32),\n",
    "    _keys.PBC_KEY: np.array([True, True, True]) # abacus does not allow non-pbc structure\n",
    "}\n",
    "structure[_keys.POSITIONS_KEY] = struct.xyz.astype(np.float32)\n",
    "structure[_keys.CELL_KEY] = struct.cell.astype(np.float32)"
   ]
  },
  {
   "cell_type": "code",
   "execution_count": 36,
   "metadata": {},
   "outputs": [
    {
     "data": {
      "text/plain": [
       "{'atomic_numbers': array([79, 79, 79, 79], dtype=int32),\n",
       " 'pbc': array([ True,  True,  True]),\n",
       " 'pos': array([[0.     , 0.     , 0.     ],\n",
       "        [0.     , 2.03915, 2.03915],\n",
       "        [2.03915, 0.     , 2.03915],\n",
       "        [2.03915, 2.03915, 0.     ]], dtype=float32),\n",
       " 'cell': array([[4.0783, 0.    , 0.    ],\n",
       "        [0.    , 4.0783, 0.    ],\n",
       "        [0.    , 0.    , 4.0783]], dtype=float32)}"
      ]
     },
     "execution_count": 36,
     "metadata": {},
     "output_type": "execute_result"
    }
   ],
   "source": [
    "structure"
   ]
  },
  {
   "cell_type": "code",
   "execution_count": 21,
   "metadata": {},
   "outputs": [
    {
     "data": {
      "text/plain": [
       "60"
      ]
     },
     "execution_count": 21,
     "metadata": {},
     "output_type": "execute_result"
    }
   ],
   "source": [
    "import sisl\n",
    "# hamil = sisl.get_sile(\"/personal/DeepTB/dptb_Zjj/DFTIO/dftio/test/data/siesta/siesta_out/RUN.fdf\").read_hamiltonian()\n",
    "hamil =  sisl.Hamiltonian.read('/personal/DeepTB/dptb_Zjj/DFTIO/dftio/test/data/siesta/siesta_out/Au_cell.HSX')\n",
    "basis_siesta = [hamil.atoms[i].orbitals[0].name() for i in range(hamil.na)]\n",
    "hamil.no"
   ]
  },
  {
   "cell_type": "code",
   "execution_count": 7,
   "metadata": {},
   "outputs": [
    {
     "data": {
      "text/plain": [
       "array([15, 30, 45, 60])"
      ]
     },
     "execution_count": 7,
     "metadata": {},
     "output_type": "execute_result"
    }
   ],
   "source": [
    "import numpy as np\n",
    "site_norbs = np.array([hamil.atoms[i].no for i in range(hamil.na)])\n",
    "site_norbs \n",
    "site_norbs.cumsum()"
   ]
  },
  {
   "cell_type": "code",
   "execution_count": 19,
   "metadata": {},
   "outputs": [
    {
     "data": {
      "text/plain": [
       "60"
      ]
     },
     "execution_count": 19,
     "metadata": {},
     "output_type": "execute_result"
    }
   ],
   "source": [
    "import sisl\n",
    "# hamil = sisl.get_sile(\"/personal/DeepTB/dptb_Zjj/DFTIO/dftio/test/data/siesta/siesta_out/RUN.fdf\").read_hamiltonian()\n",
    "DM =  sisl.DensityMatrix.read('/personal/DeepTB/dptb_Zjj/DFTIO/dftio/test/data/siesta/siesta_out/Au_cell.DM')\n",
    "# basis_siesta = [overlap.atoms[i].orbitals[0].name() for i in range(overlap.na)]\n",
    "# basis_siesta\n",
    "# overlap.nsc\n",
    "DM.no"
   ]
  },
  {
   "cell_type": "code",
   "execution_count": 17,
   "metadata": {},
   "outputs": [
    {
     "data": {
      "text/plain": [
       "array([5, 5, 5], dtype=int32)"
      ]
     },
     "execution_count": 17,
     "metadata": {},
     "output_type": "execute_result"
    }
   ],
   "source": [
    "DM.nsc"
   ]
  },
  {
   "cell_type": "code",
   "execution_count": 18,
   "metadata": {},
   "outputs": [
    {
     "data": {
      "text/plain": [
       "7500"
      ]
     },
     "execution_count": 18,
     "metadata": {},
     "output_type": "execute_result"
    }
   ],
   "source": [
    "125*60"
   ]
  },
  {
   "cell_type": "code",
   "execution_count": 102,
   "metadata": {},
   "outputs": [
    {
     "data": {
      "text/plain": [
       "{'Au': '2s1p2d'}"
      ]
     },
     "execution_count": 102,
     "metadata": {},
     "output_type": "execute_result"
    }
   ],
   "source": [
    "\n",
    "from collections import Counter\n",
    "hamil =  sisl.Hamiltonian.read('/personal/DeepTB/dptb_Zjj/DFTIO/dftio/test/data/siesta/siesta_out/Au_cell.HSX')\n",
    "hamil.atoms[0].tag\n",
    "basis_siesta = {}\n",
    "basis = {}\n",
    "for i in range(hamil.na):\n",
    "    if hamil.atoms[i].tag not in basis_siesta.keys():\n",
    "        basis_siesta[hamil.atoms[i].tag] = []\n",
    "        for j in range(hamil.atoms[i].no):\n",
    "            basis_siesta[hamil.atoms[i].tag].append(hamil.atoms[i].orbitals[j].name())\n",
    "\n",
    "\n",
    "for atom_type in basis_siesta.keys():\n",
    "    split_basis = []\n",
    "    for i in range(len(basis_siesta[atom_type])):\n",
    "        split_basis.append(list(basis_siesta[atom_type][i])[1])\n",
    "    \n",
    "    counted_basis = Counter(split_basis)\n",
    "    \n",
    "    counted_basis_list = []\n",
    "    for basis_type in counted_basis.keys():\n",
    "        if basis_type == 's':\n",
    "            counted_basis_list.append(str(int(counted_basis['s']/1))+'s')\n",
    "        elif basis_type == 'p':\n",
    "            assert abs(counted_basis['p']%3)<1e-6, \"p orbital is not multiple of 3\"\n",
    "            counted_basis_list.append(str(int(counted_basis['p']/3))+'p')\n",
    "        elif basis_type == 'd':\n",
    "            assert abs(counted_basis['d']%5)<1e-6, \"d orbital is not multiple of 5\"\n",
    "            counted_basis_list.append(str(int(counted_basis['d']/5))+'d')\n",
    "        elif basis_type == 'f':\n",
    "            assert abs(counted_basis['f']%7)<1e-6, \"f orbital is not multiple of 7\"\n",
    "            counted_basis_list.append(str(int(counted_basis['f']/7))+'f')\n",
    "    \n",
    "    basis[atom_type] = \"\".join(counted_basis_list)\n",
    "basis"
   ]
  },
  {
   "cell_type": "code",
   "execution_count": 111,
   "metadata": {},
   "outputs": [
    {
     "name": "stdout",
     "output_type": "stream",
     "text": [
      "[0, 0, 1, 2, 2]\n"
     ]
    }
   ],
   "source": [
    "import re\n",
    "\n",
    "def parse_orbital_string(orbital_string):\n",
    "    # 定义轨道类型到数字的映射\n",
    "    orbital_map = {'s': 0, 'p': 1, 'd': 2,'f': 3}\n",
    "    # 使用正则表达式匹配数字和轨道类型\n",
    "    pattern = re.compile(r'(\\d+)([spdf])')\n",
    "    \n",
    "    result = []\n",
    "    \n",
    "    for match in pattern.finditer(orbital_string):\n",
    "        number = int(match.group(1))\n",
    "        orbital_type = match.group(2)\n",
    "        result.extend([orbital_map[orbital_type]] * number)\n",
    "    \n",
    "    return result\n",
    "\n",
    "# 示例字符串\n",
    "orbital_string = '2s1p2d'\n",
    "\n",
    "# 解析并输出结果\n",
    "parsed_list = parse_orbital_string(orbital_string)\n",
    "print(parsed_list)\n"
   ]
  },
  {
   "cell_type": "code",
   "execution_count": 86,
   "metadata": {},
   "outputs": [
    {
     "name": "stdout",
     "output_type": "stream",
     "text": [
      "('/personal/DeepTB/dptb_Zjj/DFTIO/dftio/test/data/siesta/siesta_out/RUN.fdf', 'Au_cell')\n"
     ]
    },
    {
     "data": {
      "text/plain": [
       "'/personal/DeepTB/dptb_Zjj/DFTIO/dftio/test/data/siesta/siesta_out/RUN.fdf'"
      ]
     },
     "execution_count": 86,
     "metadata": {},
     "output_type": "execute_result"
    }
   ],
   "source": [
    "path = '/personal/DeepTB/dptb_Zjj/DFTIO/dftio/test/data/siesta/siesta_out'\n",
    "import os\n",
    "import re\n",
    "\n",
    "# def find_and_save_system_label_content(path):\n",
    "#     # 用于存储包含SystemLabel标签的文件及其内容\n",
    "#     fdf_files_with_system_label_content = {}\n",
    "\n",
    "#     # 遍历给定路径及其子目录\n",
    "#     for root, dirs, files in os.walk(path):\n",
    "#         for file in files:\n",
    "#             if file.endswith('.fdf'):\n",
    "#                 file_path = os.path.join(root, file)\n",
    "#                 try:\n",
    "#                     with open(file_path, 'r', encoding='utf-8') as f:\n",
    "#                         content = f.read()\n",
    "#                         # 使用正则表达式匹配SystemLabel及其后面的内容\n",
    "#                         match = re.search(r'\\bAtomicCoordinatesAndAtomicSpecies\\b\\s*(\\S+)', content)\n",
    "#                         if match:\n",
    "#                             system_label_content = match.group(1)\n",
    "#                             fdf_files_with_system_label_content[file_path] = system_label_content\n",
    "#                 except (IOError, UnicodeDecodeError) as e:\n",
    "#                     print(f\"Error reading {file_path}: {e}\")\n",
    "\n",
    "#     return fdf_files_with_system_label_content.keys(), fdf_files_with_system_label_content.values()\n",
    "def find_system_label(path,str_to_find):\n",
    "    # 用于存储包含SystemLabel标签的文件及其内容\n",
    "    \n",
    "    fdf_files_with_system_label_content = {}\n",
    "    # 遍历给定路径及其子目录\n",
    "    for root, dirs, files in os.walk(path):\n",
    "        for file in files:\n",
    "            if file.endswith('.fdf'):\n",
    "                file_path = os.path.join(root, file)\n",
    "                try:\n",
    "                    with open(file_path, 'r', encoding='utf-8') as f:\n",
    "                        content = f.read()\n",
    "                        # 使用正则表达式匹配SystemLabel及其后面的内容\n",
    "                        match = re.search(r'\\b'+str_to_find+r'\\b\\s*(\\S+)', content)\n",
    "                        if match:\n",
    "                            system_label_content = match.group(1)\n",
    "                            fdf_files_with_system_label_content[file_path] = system_label_content\n",
    "                            break\n",
    "                except:\n",
    "                    print(f\"don't find {str_to_find} in {file_path}\")\n",
    "\n",
    "    return file_path, system_label_content \n",
    "# 示例路径\n",
    "path = '/personal/DeepTB/dptb_Zjj/DFTIO/dftio/test/data/siesta/siesta_out'\n",
    "\n",
    "# 查找包含SystemLabel标签的.fdf文件并保存其后面的内容\n",
    "# result = find_system_label(path, 'AtomicCoordinatesAndAtomicSpecies')\n",
    "result = find_system_label(path, 'SystemLabel')\n",
    "print(result)\n",
    "result[0]"
   ]
  },
  {
   "cell_type": "code",
   "execution_count": 79,
   "metadata": {},
   "outputs": [
    {
     "ename": "TypeError",
     "evalue": "'dict_keys' object is not subscriptable",
     "output_type": "error",
     "traceback": [
      "\u001b[0;31m---------------------------------------------------------------------------\u001b[0m",
      "\u001b[0;31mTypeError\u001b[0m                                 Traceback (most recent call last)",
      "Cell \u001b[0;32mIn[79], line 1\u001b[0m\n\u001b[0;32m----> 1\u001b[0m \u001b[43mresult\u001b[49m\u001b[43m[\u001b[49m\u001b[38;5;241;43m0\u001b[39;49m\u001b[43m]\u001b[49m\u001b[43m[\u001b[49m\u001b[38;5;241;43m0\u001b[39;49m\u001b[43m]\u001b[49m\n",
      "\u001b[0;31mTypeError\u001b[0m: 'dict_keys' object is not subscriptable"
     ]
    }
   ],
   "source": []
  },
  {
   "cell_type": "code",
   "execution_count": 4,
   "metadata": {},
   "outputs": [
    {
     "data": {
      "text/plain": [
       "(121, 3)"
      ]
     },
     "execution_count": 4,
     "metadata": {},
     "output_type": "execute_result"
    }
   ],
   "source": [
    "import sisl\n",
    "hamil =  sisl.Hamiltonian.read('/personal/DeepTB/dptb_Zjj/DFTIO/dftio/test/data/siesta/siesta_out/Au_cell.HSX')\n",
    "# eig_fdf = hamil.eigh()\n",
    "\n",
    "band = sisl.BandStructure(hamil, [[0., 0.,0], \n",
    "                                  [0.3750000000,\t0.3750000000,\t0.7500000000],\n",
    "                                  [0.5000000000,\t0.5000000000,\t0.5000000000], \n",
    "                                  [0.6250000000,\t0.2500000000,\t0.6250000000],\n",
    "                                  [0.5000000000,\t0.2500000000,\t0.7500000000],\n",
    "                                  [0.7500000000,\t0.2500000000,\t0.5000000000],\n",
    "                                  [0.5000000000,\t0.0000000000,\t0.5000000000]], [20,20,20,20,20,20],\n",
    "                                 [r'$\\Gamma$', 'K', 'L', 'U','W', 'W2', 'X']) \n",
    "\n",
    "eigs = band.apply.array.eigh()\n",
    "band.k.shape\n"
   ]
  },
  {
   "cell_type": "code",
   "execution_count": 179,
   "metadata": {},
   "outputs": [
    {
     "data": {
      "text/plain": [
       "(60, 7500, 2)"
      ]
     },
     "execution_count": 179,
     "metadata": {},
     "output_type": "execute_result"
    }
   ],
   "source": [
    "import sisl\n",
    "# hamil = sisl.get_sile(\"/personal/DeepTB/dptb_Zjj/DFTIO/dftio/test/data/siesta/siesta_out/RUN.fdf\").read_hamiltonian()\n",
    "hamil =  sisl.Hamiltonian.read('/personal/DeepTB/dptb_Zjj/DFTIO/dftio/test/data/siesta/siesta_out/Au_cell.HSX')\n",
    "hamil.shape"
   ]
  },
  {
   "cell_type": "code",
   "execution_count": 197,
   "metadata": {},
   "outputs": [
    {
     "name": "stdout",
     "output_type": "stream",
     "text": [
      "Hamiltonian{non-zero: 150156, orthogonal: False,\n",
      " Spin{unpolarized, kind=f},\n",
      " Geometry{na: 4, no: 60,\n",
      "  Atoms{species: 1,\n",
      "   Atom{Au, Z: 79, mass(au): 196.96657, maxR: -1.00000,\n",
      "    AtomicOrbital{6sZ1, q0: 0.0, Orbital{R: -1.00000, q0: 0.0}},\n",
      "    AtomicOrbital{6sZ2, q0: 0.0, Orbital{R: -1.00000, q0: 0.0}},\n",
      "    AtomicOrbital{6pyZ1, q0: 0.0, Orbital{R: -1.00000, q0: 0.0}},\n",
      "    AtomicOrbital{6pzZ1, q0: 0.0, Orbital{R: -1.00000, q0: 0.0}},\n",
      "    AtomicOrbital{6pxZ1, q0: 0.0, Orbital{R: -1.00000, q0: 0.0}},\n",
      "    AtomicOrbital{5dxyZ1, q0: 0.0, Orbital{R: -1.00000, q0: 0.0}},\n",
      "    AtomicOrbital{5dyzZ1, q0: 0.0, Orbital{R: -1.00000, q0: 0.0}},\n",
      "    AtomicOrbital{5dz2Z1, q0: 0.0, Orbital{R: -1.00000, q0: 0.0}},\n",
      "    AtomicOrbital{5dxzZ1, q0: 0.0, Orbital{R: -1.00000, q0: 0.0}},\n",
      "    AtomicOrbital{5dx2-y2Z1, q0: 0.0, Orbital{R: -1.00000, q0: 0.0}},\n",
      "    AtomicOrbital{5dxyZ2, q0: 0.0, Orbital{R: -1.00000, q0: 0.0}},\n",
      "    AtomicOrbital{5dyzZ2, q0: 0.0, Orbital{R: -1.00000, q0: 0.0}},\n",
      "    AtomicOrbital{5dz2Z2, q0: 0.0, Orbital{R: -1.00000, q0: 0.0}},\n",
      "    AtomicOrbital{5dxzZ2, q0: 0.0, Orbital{R: -1.00000, q0: 0.0}},\n",
      "    AtomicOrbital{5dx2-y2Z2, q0: 0.0, Orbital{R: -1.00000, q0: 0.0}}\n",
      "   }: 4,\n",
      "  },\n",
      "  maxR: -1.00000,\n",
      "  Lattice{nsc: [5 5 5],\n",
      "   origin=0.0000, 0.0000, 0.0000,\n",
      "   A=[4.0783, 0.0000, 0.0000],\n",
      "   B=[0.0000, 4.0783, 0.0000],\n",
      "   C=[0.0000, 0.0000, 4.0783],\n",
      "   bc=[Periodic,\n",
      "       Periodic,\n",
      "       Periodic]\n",
      "  }\n",
      " }\n",
      "}\n"
     ]
    }
   ],
   "source": [
    "print(hamil)"
   ]
  },
  {
   "cell_type": "code",
   "execution_count": 166,
   "metadata": {},
   "outputs": [
    {
     "data": {
      "text/plain": [
       "[[0, 0, 0],\n",
       " [0, 0, 1],\n",
       " [0, 0, 2],\n",
       " [0, 1, 0],\n",
       " [0, 1, 1],\n",
       " [0, 1, 2],\n",
       " [0, 2, 0],\n",
       " [0, 2, 1],\n",
       " [0, 2, 2],\n",
       " [1, 0, 0],\n",
       " [1, 0, 1],\n",
       " [1, 0, 2],\n",
       " [1, 1, 0],\n",
       " [1, 1, 1],\n",
       " [1, 1, 2],\n",
       " [1, 2, 0],\n",
       " [1, 2, 1],\n",
       " [1, 2, 2],\n",
       " [2, 0, 0],\n",
       " [2, 0, 1],\n",
       " [2, 0, 2],\n",
       " [2, 1, 0],\n",
       " [2, 1, 1],\n",
       " [2, 1, 2],\n",
       " [2, 2, 0],\n",
       " [2, 2, 1],\n",
       " [2, 2, 2]]"
      ]
     },
     "execution_count": 166,
     "metadata": {},
     "output_type": "execute_result"
    }
   ],
   "source": [
    "import numpy as np\n",
    "hamil.nsc\n",
    "central_cell = [int(np.floor(hamil.nsc[i]/2)) for i in range(3)]\n",
    "Rvec_list = []\n",
    "for rx in range(central_cell[0],hamil.nsc[0]):\n",
    "    for ry in range(central_cell[1],hamil.nsc[1]):\n",
    "        for rz in range(central_cell[2],hamil.nsc[2]):\n",
    "            Rvec_list.append([rx-central_cell[0],ry-central_cell[1],rz-central_cell[2]])\n",
    "\n",
    "\n",
    "len(Rvec_list)\n",
    "Rvec_list"
   ]
  },
  {
   "cell_type": "code",
   "execution_count": 190,
   "metadata": {},
   "outputs": [],
   "source": [
    "hamil_csr = hamil.tocsr()\n",
    "block = {}\n",
    "for Rvec in Rvec_list:\n",
    "    off = hamil.geometry.sc_index(Rvec) * hamil.geometry.no\n",
    "    block[str(Rvec)] = hamil_csr[:,0+off:hamil.geometry.no+off].toarray()"
   ]
  },
  {
   "cell_type": "code",
   "execution_count": 196,
   "metadata": {},
   "outputs": [
    {
     "data": {
      "text/plain": [
       "array([[-2.8917704e-09,  4.1865745e-14, -1.9868723e-25, ...,\n",
       "         0.0000000e+00,  0.0000000e+00,  0.0000000e+00],\n",
       "       [ 4.1865745e-14,  1.3782349e-17,  0.0000000e+00, ...,\n",
       "         0.0000000e+00,  0.0000000e+00,  0.0000000e+00],\n",
       "       [-1.9868714e-25,  0.0000000e+00,  3.5500010e-09, ...,\n",
       "         0.0000000e+00,  0.0000000e+00,  0.0000000e+00],\n",
       "       ...,\n",
       "       [ 0.0000000e+00,  0.0000000e+00,  0.0000000e+00, ...,\n",
       "         0.0000000e+00,  0.0000000e+00,  0.0000000e+00],\n",
       "       [ 0.0000000e+00,  0.0000000e+00,  0.0000000e+00, ...,\n",
       "         0.0000000e+00,  0.0000000e+00,  0.0000000e+00],\n",
       "       [ 0.0000000e+00,  0.0000000e+00,  0.0000000e+00, ...,\n",
       "         0.0000000e+00,  0.0000000e+00,  0.0000000e+00]], dtype=float32)"
      ]
     },
     "execution_count": 196,
     "metadata": {},
     "output_type": "execute_result"
    }
   ],
   "source": [
    "block[str([0,0,2])]"
   ]
  },
  {
   "cell_type": "code",
   "execution_count": 123,
   "metadata": {},
   "outputs": [
    {
     "data": {
      "text/plain": [
       "array([-6.0882545,  1.       ], dtype=float32)"
      ]
     },
     "execution_count": 123,
     "metadata": {},
     "output_type": "execute_result"
    }
   ],
   "source": [
    "hamil[0,0]"
   ]
  },
  {
   "cell_type": "code",
   "execution_count": 178,
   "metadata": {},
   "outputs": [
    {
     "data": {
      "text/plain": [
       "(60, 7500)"
      ]
     },
     "execution_count": 178,
     "metadata": {},
     "output_type": "execute_result"
    }
   ],
   "source": [
    "hamil_csr = hamil.tocsr()\n",
    "hamil_csr.shape"
   ]
  },
  {
   "cell_type": "code",
   "execution_count": 133,
   "metadata": {},
   "outputs": [
    {
     "name": "stdout",
     "output_type": "stream",
     "text": [
      "CSR matrix:\n",
      "   (0, 2)\t1\n",
      "  (1, 0)\t2\n",
      "  (2, 1)\t3\n",
      "  (2, 3)\t4\n",
      "  (3, 0)\t5\n",
      "Row slice:\n",
      "   (0, 1)\t3\n",
      "  (0, 3)\t4\n",
      "Row slice (dense format):\n",
      " [[0 3 0 4]]\n"
     ]
    }
   ],
   "source": [
    "import numpy as np\n",
    "from scipy.sparse import csr_matrix\n",
    "\n",
    "# 创建一个稠密矩阵\n",
    "dense_matrix = np.array([\n",
    "    [0, 0, 1, 0],\n",
    "    [2, 0, 0, 0],\n",
    "    [0, 3, 0, 4],\n",
    "    [5, 0, 0, 0]\n",
    "])\n",
    "\n",
    "# 将稠密矩阵转换为 CSR 格式\n",
    "sparse_matrix = csr_matrix(dense_matrix)\n",
    "\n",
    "# 打印 CSR 格式矩阵\n",
    "print(\"CSR matrix:\\n\", sparse_matrix)\n",
    "\n",
    "# 提取第2行\n",
    "row_slice = sparse_matrix[2, :]\n",
    "print(\"Row slice:\\n\", row_slice)\n",
    "print(\"Row slice (dense format):\\n\", row_slice.toarray())\n"
   ]
  }
 ],
 "metadata": {
  "kernelspec": {
   "display_name": "deeptb-dev",
   "language": "python",
   "name": "python3"
  },
  "language_info": {
   "codemirror_mode": {
    "name": "ipython",
    "version": 3
   },
   "file_extension": ".py",
   "mimetype": "text/x-python",
   "name": "python",
   "nbconvert_exporter": "python",
   "pygments_lexer": "ipython3",
   "version": "3.8.19"
  }
 },
 "nbformat": 4,
 "nbformat_minor": 2
}
