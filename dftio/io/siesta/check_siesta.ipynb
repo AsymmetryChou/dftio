{
 "cells": [
  {
   "cell_type": "code",
   "execution_count": 1,
   "metadata": {},
   "outputs": [],
   "source": [
    "from dptb.data import build_dataset\n",
    "\n",
    "dataset = build_dataset(\n",
    "    root=\"/personal/DeepTB/dptb_Zjj/DFTIO/dftio/test/data/test_siesta\",\n",
    "    \n",
    "    \n",
    "    prefix=\"data\",\n",
    "    type=\"LMDBDataset\",\n",
    "\n",
    "    get_Hamiltonian=True,\n",
    "    get_overlap=True,\n",
    "    basis={\"Au\":\"2s1p2d\"}\n",
    ")"
   ]
  },
  {
   "cell_type": "code",
   "execution_count": 27,
   "metadata": {},
   "outputs": [
    {
     "name": "stdout",
     "output_type": "stream",
     "text": [
      "Hamiltonian{non-zero: 150156, orthogonal: False,\n",
      " Spin{unpolarized, kind=f},\n",
      " Geometry{na: 4, no: 60,\n",
      "  Atoms{species: 1,\n",
      "   Atom{Au, Z: 79, mass(au): 196.97000, maxR: 3.32540,\n",
      "    AtomicOrbital{6sZ1, q0: 1.0, SphericalOrbital{l: 0, R: 3.0033000000000074, q0: 1.0}},\n",
      "    AtomicOrbital{6sZ2, q0: 0.0, SphericalOrbital{l: 0, R: 2.1390000000000193, q0: 0.0}},\n",
      "    AtomicOrbital{6pyZ1, q0: 0.0, SphericalOrbital{l: 1, R: 3.3254000000000117, q0: 0.0}},\n",
      "    AtomicOrbital{6pzZ1, q0: 0.0, SphericalOrbital{l: 1, R: 3.3254000000000117, q0: 0.0}},\n",
      "    AtomicOrbital{6pxZ1, q0: 0.0, SphericalOrbital{l: 1, R: 3.3254000000000117, q0: 0.0}},\n",
      "    AtomicOrbital{5dxyZ1, q0: 2.0, SphericalOrbital{l: 2, R: 2.895100000000011, q0: 10.0}},\n",
      "    AtomicOrbital{5dyzZ1, q0: 2.0, SphericalOrbital{l: 2, R: 2.895100000000011, q0: 10.0}},\n",
      "    AtomicOrbital{5dz2Z1, q0: 2.0, SphericalOrbital{l: 2, R: 2.895100000000011, q0: 10.0}},\n",
      "    AtomicOrbital{5dxzZ1, q0: 2.0, SphericalOrbital{l: 2, R: 2.895100000000011, q0: 10.0}},\n",
      "    AtomicOrbital{5dx2-y2Z1, q0: 2.0, SphericalOrbital{l: 2, R: 2.895100000000011, q0: 10.0}},\n",
      "    AtomicOrbital{5dxyZ2, q0: 0.0, SphericalOrbital{l: 2, R: 1.2052999999999994, q0: 0.0}},\n",
      "    AtomicOrbital{5dyzZ2, q0: 0.0, SphericalOrbital{l: 2, R: 1.2052999999999994, q0: 0.0}},\n",
      "    AtomicOrbital{5dz2Z2, q0: 0.0, SphericalOrbital{l: 2, R: 1.2052999999999994, q0: 0.0}},\n",
      "    AtomicOrbital{5dxzZ2, q0: 0.0, SphericalOrbital{l: 2, R: 1.2052999999999994, q0: 0.0}},\n",
      "    AtomicOrbital{5dx2-y2Z2, q0: 0.0, SphericalOrbital{l: 2, R: 1.2052999999999994, q0: 0.0}}\n",
      "   }: 4,\n",
      "  },\n",
      "  maxR: 3.32540,\n",
      "  Lattice{nsc: [5 5 5],\n",
      "   origin=0.0000, 0.0000, 0.0000,\n",
      "   A=[4.0783, 0.0000, 0.0000],\n",
      "   B=[0.0000, 4.0783, 0.0000],\n",
      "   C=[0.0000, 0.0000, 4.0783],\n",
      "   bc=[Periodic,\n",
      "       Periodic,\n",
      "       Periodic]\n",
      "  }\n",
      " }\n",
      "}\n"
     ]
    }
   ],
   "source": [
    "import sisl\n",
    "\n",
    "run = sisl.Hamiltonian.read('/personal/DeepTB/dptb_Zjj/DFTIO/dftio/test/data/siesta/siesta_out/RUN.fdf')\n",
    "print(run)"
   ]
  },
  {
   "cell_type": "code",
   "execution_count": 2,
   "metadata": {},
   "outputs": [],
   "source": [
    "AtomicData = dataset[0]"
   ]
  },
  {
   "cell_type": "code",
   "execution_count": 3,
   "metadata": {},
   "outputs": [],
   "source": [
    "from dptb.data import feature_to_block\n",
    "\n",
    "block = feature_to_block(AtomicData.to_dict(), idp=dataset.type_mapper)"
   ]
  },
  {
   "cell_type": "code",
   "execution_count": 4,
   "metadata": {},
   "outputs": [
    {
     "data": {
      "text/plain": [
       "dict_keys(['0_0_0_0_0', '1_1_0_0_0', '2_2_0_0_0', '3_3_0_0_0', '0_3_-1_-1_1', '0_3_0_-1_1', '0_1_1_-1_-1', '0_1_-1_-1_-1', '0_2_-1_-1_-1', '0_3_-1_-1_-1', '0_1_0_-1_-1', '0_2_0_-1_-1', '0_3_0_-1_-1', '0_3_0_0_1', '0_0_0_0_1', '0_3_-1_0_1', '0_1_1_-1_0', '0_3_0_-1_0', '0_2_0_-1_0', '0_1_0_-1_0', '0_0_0_-1_0', '0_3_-1_-1_0', '0_2_-1_-1_0', '0_1_-1_-1_0', '0_2_-1_0_0', '0_1_-1_0_0', '0_0_-1_0_0', '0_3_-1_0_0', '0_1_0_0_-1', '0_2_0_0_-1', '0_3_0_0_-1', '0_1_1_0_-1', '0_2_-1_0_-1', '0_1_-1_0_-1', '0_3_-1_0_-1', '0_2_-1_1_-1', '0_1_1_0_0', '0_3_0_0_0', '0_2_0_0_0', '0_1_0_0_0', '0_2_0_1_0', '0_2_0_1_-1', '0_2_-1_1_0', '1_2_0_1_0', '1_1_0_1_0', '1_2_-1_1_0', '1_3_-1_1_0', '1_3_-1_-1_0', '1_3_0_-1_0', '1_1_1_0_0', '1_2_0_0_0', '1_3_-1_0_0', '1_2_-1_0_0', '1_2_-1_0_1', '1_3_-1_0_1', '1_2_0_0_1', '1_3_0_0_1', '1_3_0_-1_1', '1_2_0_1_1', '1_2_-1_1_1', '1_3_-1_1_1', '1_3_0_1_1', '1_3_-1_-1_1', '1_3_0_1_0', '1_1_0_0_1', '1_3_0_0_0', '1_2_-1_1_-1', '1_2_0_1_-1', '1_2_0_0_-1', '1_2_-1_0_-1', '2_3_1_-1_1', '2_3_0_-1_1', '2_3_-1_-1_1', '2_2_0_0_1', '2_3_-1_0_1', '2_3_0_0_1', '2_3_1_0_1', '2_3_1_0_0', '2_2_1_0_0', '2_2_0_1_0', '2_3_0_0_0', '2_3_-1_-1_0', '2_3_1_-1_0', '2_3_0_-1_0', '2_3_-1_0_0', '3_3_0_1_0', '3_3_0_0_-1', '3_3_1_0_0'])"
      ]
     },
     "execution_count": 4,
     "metadata": {},
     "output_type": "execute_result"
    }
   ],
   "source": [
    "block.keys()"
   ]
  },
  {
   "cell_type": "code",
   "execution_count": 5,
   "metadata": {},
   "outputs": [
    {
     "data": {
      "text/plain": [
       "tensor([-6.0883e+00, -4.2087e+00,  1.0564e-09,  8.1056e-10,  1.0563e-09,\n",
       "         1.3284e-11,  2.6113e-10, -1.2327e-08,  2.6114e-10,  3.8043e-10,\n",
       "         1.0002e-11,  5.1758e-11, -1.8091e-08,  5.1760e-11,  3.0703e-10])"
      ]
     },
     "execution_count": 5,
     "metadata": {},
     "output_type": "execute_result"
    }
   ],
   "source": [
    "block['0_0_0_0_0'][0]"
   ]
  },
  {
   "cell_type": "code",
   "execution_count": 8,
   "metadata": {},
   "outputs": [
    {
     "data": {
      "image/png": "[encoded data removed]",
      "text/plain": [
       "<Figure size 480x480 with 1 Axes>"
      ]
     },
     "metadata": {},
     "output_type": "display_data"
    }
   ],
   "source": [
    "import matplotlib.pyplot as plt\n",
    "\n",
    "plt.matshow(block['0_0_0_0_0'], cmap=\"bwr\", vmax=1.0, vmin=-1.0)\n",
    "plt.show()"
   ]
  },
  {
   "cell_type": "code",
   "execution_count": 31,
   "metadata": {},
   "outputs": [
    {
     "data": {
      "text/plain": [
       "tensor([[ 0.0000e+00,  0.0000e+00,  0.0000e+00,  ...,  0.0000e+00,\n",
       "          0.0000e+00,  0.0000e+00],\n",
       "        [ 0.0000e+00,  0.0000e+00,  0.0000e+00,  ...,  0.0000e+00,\n",
       "          0.0000e+00,  0.0000e+00],\n",
       "        [ 0.0000e+00,  0.0000e+00,  0.0000e+00,  ...,  0.0000e+00,\n",
       "          0.0000e+00,  0.0000e+00],\n",
       "        ...,\n",
       "        [ 0.0000e+00,  0.0000e+00,  0.0000e+00,  ...,  0.0000e+00,\n",
       "          0.0000e+00,  0.0000e+00],\n",
       "        [-2.3296e-02, -1.7941e-03, -1.1674e-04,  ..., -1.9106e-13,\n",
       "          0.0000e+00,  3.5319e-13],\n",
       "        [ 0.0000e+00,  0.0000e+00,  0.0000e+00,  ...,  0.0000e+00,\n",
       "          0.0000e+00,  0.0000e+00]])"
      ]
     },
     "execution_count": 31,
     "metadata": {},
     "output_type": "execute_result"
    }
   ],
   "source": [
    "AtomicData.edge_features"
   ]
  },
  {
   "cell_type": "code",
   "execution_count": 32,
   "metadata": {},
   "outputs": [
    {
     "ename": "_LinAlgError",
     "evalue": "linalg.cholesky: (Batch element 0): The factorization could not be completed because the input is not positive-definite (the leading minor of order 35 is not positive-definite).",
     "output_type": "error",
     "traceback": [
      "\u001b[0;31m---------------------------------------------------------------------------\u001b[0m",
      "\u001b[0;31m_LinAlgError\u001b[0m                              Traceback (most recent call last)",
      "Cell \u001b[0;32mIn[32], line 32\u001b[0m\n\u001b[1;32m     24\u001b[0m eigs \u001b[38;5;241m=\u001b[39m Eigenvalues(\n\u001b[1;32m     25\u001b[0m     idp\u001b[38;5;241m=\u001b[39mOrbitalMapper(basis\u001b[38;5;241m=\u001b[39m{\u001b[38;5;124m\"\u001b[39m\u001b[38;5;124mAu\u001b[39m\u001b[38;5;124m\"\u001b[39m:\u001b[38;5;124m\"\u001b[39m\u001b[38;5;124m2s1p2d\u001b[39m\u001b[38;5;124m\"\u001b[39m}),\n\u001b[1;32m     26\u001b[0m     s_edge_field\u001b[38;5;241m=\u001b[39m_keys\u001b[38;5;241m.\u001b[39mEDGE_OVERLAP_KEY,\n\u001b[1;32m     27\u001b[0m     s_node_field\u001b[38;5;241m=\u001b[39m_keys\u001b[38;5;241m.\u001b[39mNODE_OVERLAP_KEY,\n\u001b[1;32m     28\u001b[0m     s_out_field\u001b[38;5;241m=\u001b[39m_keys\u001b[38;5;241m.\u001b[39mOVERLAP_KEY\n\u001b[1;32m     29\u001b[0m     )\n\u001b[1;32m     31\u001b[0m AtomicData[_keys\u001b[38;5;241m.\u001b[39mKPOINT_KEY] \u001b[38;5;241m=\u001b[39m torch\u001b[38;5;241m.\u001b[39mnested\u001b[38;5;241m.\u001b[39mas_nested_tensor([torch\u001b[38;5;241m.\u001b[39mfrom_numpy(kpath_list)\u001b[38;5;241m.\u001b[39mfloat()])\n\u001b[0;32m---> 32\u001b[0m AtomicData \u001b[38;5;241m=\u001b[39m \u001b[43meigs\u001b[49m\u001b[43m(\u001b[49m\u001b[43mAtomicData\u001b[49m\u001b[38;5;241;43m.\u001b[39;49m\u001b[43mto_dict\u001b[49m\u001b[43m(\u001b[49m\u001b[43m)\u001b[49m\u001b[43m)\u001b[49m\n",
      "File \u001b[0;32m/opt/mamba/envs/deeptb-dev/lib/python3.10/site-packages/torch/nn/modules/module.py:1518\u001b[0m, in \u001b[0;36mModule._wrapped_call_impl\u001b[0;34m(self, *args, **kwargs)\u001b[0m\n\u001b[1;32m   1516\u001b[0m     \u001b[38;5;28;01mreturn\u001b[39;00m \u001b[38;5;28mself\u001b[39m\u001b[38;5;241m.\u001b[39m_compiled_call_impl(\u001b[38;5;241m*\u001b[39margs, \u001b[38;5;241m*\u001b[39m\u001b[38;5;241m*\u001b[39mkwargs)  \u001b[38;5;66;03m# type: ignore[misc]\u001b[39;00m\n\u001b[1;32m   1517\u001b[0m \u001b[38;5;28;01melse\u001b[39;00m:\n\u001b[0;32m-> 1518\u001b[0m     \u001b[38;5;28;01mreturn\u001b[39;00m \u001b[38;5;28;43mself\u001b[39;49m\u001b[38;5;241;43m.\u001b[39;49m\u001b[43m_call_impl\u001b[49m\u001b[43m(\u001b[49m\u001b[38;5;241;43m*\u001b[39;49m\u001b[43margs\u001b[49m\u001b[43m,\u001b[49m\u001b[43m \u001b[49m\u001b[38;5;241;43m*\u001b[39;49m\u001b[38;5;241;43m*\u001b[39;49m\u001b[43mkwargs\u001b[49m\u001b[43m)\u001b[49m\n",
      "File \u001b[0;32m/opt/mamba/envs/deeptb-dev/lib/python3.10/site-packages/torch/nn/modules/module.py:1527\u001b[0m, in \u001b[0;36mModule._call_impl\u001b[0;34m(self, *args, **kwargs)\u001b[0m\n\u001b[1;32m   1522\u001b[0m \u001b[38;5;66;03m# If we don't have any hooks, we want to skip the rest of the logic in\u001b[39;00m\n\u001b[1;32m   1523\u001b[0m \u001b[38;5;66;03m# this function, and just call forward.\u001b[39;00m\n\u001b[1;32m   1524\u001b[0m \u001b[38;5;28;01mif\u001b[39;00m \u001b[38;5;129;01mnot\u001b[39;00m (\u001b[38;5;28mself\u001b[39m\u001b[38;5;241m.\u001b[39m_backward_hooks \u001b[38;5;129;01mor\u001b[39;00m \u001b[38;5;28mself\u001b[39m\u001b[38;5;241m.\u001b[39m_backward_pre_hooks \u001b[38;5;129;01mor\u001b[39;00m \u001b[38;5;28mself\u001b[39m\u001b[38;5;241m.\u001b[39m_forward_hooks \u001b[38;5;129;01mor\u001b[39;00m \u001b[38;5;28mself\u001b[39m\u001b[38;5;241m.\u001b[39m_forward_pre_hooks\n\u001b[1;32m   1525\u001b[0m         \u001b[38;5;129;01mor\u001b[39;00m _global_backward_pre_hooks \u001b[38;5;129;01mor\u001b[39;00m _global_backward_hooks\n\u001b[1;32m   1526\u001b[0m         \u001b[38;5;129;01mor\u001b[39;00m _global_forward_hooks \u001b[38;5;129;01mor\u001b[39;00m _global_forward_pre_hooks):\n\u001b[0;32m-> 1527\u001b[0m     \u001b[38;5;28;01mreturn\u001b[39;00m \u001b[43mforward_call\u001b[49m\u001b[43m(\u001b[49m\u001b[38;5;241;43m*\u001b[39;49m\u001b[43margs\u001b[49m\u001b[43m,\u001b[49m\u001b[43m \u001b[49m\u001b[38;5;241;43m*\u001b[39;49m\u001b[38;5;241;43m*\u001b[39;49m\u001b[43mkwargs\u001b[49m\u001b[43m)\u001b[49m\n\u001b[1;32m   1529\u001b[0m \u001b[38;5;28;01mtry\u001b[39;00m:\n\u001b[1;32m   1530\u001b[0m     result \u001b[38;5;241m=\u001b[39m \u001b[38;5;28;01mNone\u001b[39;00m\n",
      "File \u001b[0;32m/opt/mamba/envs/deeptb-dev/lib/python3.10/site-packages/dptb/nn/energy.py:69\u001b[0m, in \u001b[0;36mEigenvalues.forward\u001b[0;34m(self, data, nk)\u001b[0m\n\u001b[1;32m     67\u001b[0m \u001b[38;5;28;01mif\u001b[39;00m \u001b[38;5;28mself\u001b[39m\u001b[38;5;241m.\u001b[39moverlap:\n\u001b[1;32m     68\u001b[0m     data \u001b[38;5;241m=\u001b[39m \u001b[38;5;28mself\u001b[39m\u001b[38;5;241m.\u001b[39ms2k(data)\n\u001b[0;32m---> 69\u001b[0m     chklowt \u001b[38;5;241m=\u001b[39m \u001b[43mtorch\u001b[49m\u001b[38;5;241;43m.\u001b[39;49m\u001b[43mlinalg\u001b[49m\u001b[38;5;241;43m.\u001b[39;49m\u001b[43mcholesky\u001b[49m\u001b[43m(\u001b[49m\u001b[43mdata\u001b[49m\u001b[43m[\u001b[49m\u001b[38;5;28;43mself\u001b[39;49m\u001b[38;5;241;43m.\u001b[39;49m\u001b[43ms_out_field\u001b[49m\u001b[43m]\u001b[49m\u001b[43m)\u001b[49m\n\u001b[1;32m     70\u001b[0m     chklowtinv \u001b[38;5;241m=\u001b[39m torch\u001b[38;5;241m.\u001b[39mlinalg\u001b[38;5;241m.\u001b[39minv(chklowt)\n\u001b[1;32m     71\u001b[0m     data[\u001b[38;5;28mself\u001b[39m\u001b[38;5;241m.\u001b[39mh_out_field] \u001b[38;5;241m=\u001b[39m (chklowtinv \u001b[38;5;241m@\u001b[39m data[\u001b[38;5;28mself\u001b[39m\u001b[38;5;241m.\u001b[39mh_out_field] \u001b[38;5;241m@\u001b[39m torch\u001b[38;5;241m.\u001b[39mtranspose(chklowtinv,dim0\u001b[38;5;241m=\u001b[39m\u001b[38;5;241m1\u001b[39m,dim1\u001b[38;5;241m=\u001b[39m\u001b[38;5;241m2\u001b[39m)\u001b[38;5;241m.\u001b[39mconj())\n",
      "\u001b[0;31m_LinAlgError\u001b[0m: linalg.cholesky: (Batch element 0): The factorization could not be completed because the input is not positive-definite (the leading minor of order 35 is not positive-definite)."
     ]
    }
   ],
   "source": [
    "from dptb.nn import Eigenvalues\n",
    "from dptb.utils.make_kpoints import abacus_kpath\n",
    "from dptb.data import _keys\n",
    "from ase.io import read\n",
    "from dptb.data import OrbitalMapper\n",
    "import torch\n",
    "\n",
    "\n",
    "kpath = [[0., 0.,0.,8], \n",
    "                [0.0000000000,   0.5000000000,   0.0000000000,8],\n",
    "                [0.5000000000,   0.5000000000,   0.0000000000,8], \n",
    "                [0.0000000000,   0.0000000000,   0.0000000000,8],\n",
    "                [0.0000000000,   0.0000000000,   0.5000000000,8],\n",
    "                [0.0000000000,   0.5000000000,   0.5000000000,8],\n",
    "                [0.5000000000,   0.5000000000,   0.5000000000,8],\n",
    "                [0.0000000000,   0.0000000000,   0.5000000000,8],\n",
    "                [0.0000000000,   0.5000000000,   0.0000000000,8],\n",
    "                [0.0000000000,   0.5000000000,   0.5000000000,8],\n",
    "                [0.5000000000,   0.5000000000,   0.0000000000,8],\n",
    "                [0.5000000000,   0.5000000000,   0.5000000000,1]]\n",
    "\n",
    "structase = read('/personal/DeepTB/dptb_Zjj/DFTIO/dftio/test/data/siesta/siesta_out/Au_cell.xyz')\n",
    "kpath_list, kdist_list, high_sym_kpoints = abacus_kpath(structase=structase, kpath=kpath)\n",
    "eigs = Eigenvalues(\n",
    "    idp=OrbitalMapper(basis={\"Au\":\"2s1p2d\"}),\n",
    "    s_edge_field=_keys.EDGE_OVERLAP_KEY,\n",
    "    s_node_field=_keys.NODE_OVERLAP_KEY,\n",
    "    s_out_field=_keys.OVERLAP_KEY\n",
    "    )\n",
    "\n",
    "AtomicData[_keys.KPOINT_KEY] = torch.nested.as_nested_tensor([torch.from_numpy(kpath_list).float()])\n",
    "AtomicData = eigs(AtomicData.to_dict())"
   ]
  },
  {
   "cell_type": "code",
   "execution_count": 12,
   "metadata": {},
   "outputs": [
    {
     "data": {
      "text/plain": [
       "0"
      ]
     },
     "execution_count": 12,
     "metadata": {},
     "output_type": "execute_result"
    }
   ],
   "source": [
    "import sisl\n",
    "\n",
    "ovp_sisl = sisl.Overlap.read('/personal/DeepTB/dptb_Zjj/DFTIO/dftio/test/data/siesta/siesta_out/Au_cell.HSX')\n",
    "# ovp_sisl[0,0,(0,0,0)]\n",
    "off = ovp_sisl.geometry.sc_index([0, 0, 0]) * ovp_sisl.geometry.no\n",
    "off"
   ]
  },
  {
   "cell_type": "code",
   "execution_count": 10,
   "metadata": {},
   "outputs": [
    {
     "data": {
      "image/png": "[encoded data removed]",
      "text/plain": [
       "<Figure size 480x480 with 1 Axes>"
      ]
     },
     "metadata": {},
     "output_type": "display_data"
    }
   ],
   "source": [
    "import sisl\n",
    "\n",
    "ovp_sisl = sisl.Overlap.read('/personal/DeepTB/dptb_Zjj/DFTIO/dftio/test/data/siesta/siesta_out/Au_cell.HSX')\n",
    "ovp_sisl[0,0,(0,0,0)]\n",
    "\n",
    "ovp_csr = ovp_sisl.tocsr()\n",
    "ovp_csr[:15,:15].toarray()\n",
    "import matplotlib.pyplot as plt\n",
    "\n",
    "plt.matshow(ovp_csr[:15,:15].toarray()-block['0_0_0_0_0'].numpy(), cmap=\"bwr\", vmax=1.0, vmin=-1.0)\n",
    "plt.show()"
   ]
  },
  {
   "cell_type": "code",
   "execution_count": 14,
   "metadata": {},
   "outputs": [
    {
     "data": {
      "text/plain": [
       "array([[1.       , 0.9065072, 0.       ],\n",
       "       [0.9065072, 1.       , 0.       ],\n",
       "       [0.       , 0.       , 1.       ]], dtype=float32)"
      ]
     },
     "execution_count": 14,
     "metadata": {},
     "output_type": "execute_result"
    }
   ],
   "source": [
    "ovp_csr[:3,:3].toarray()"
   ]
  }
 ],
 "metadata": {
  "kernelspec": {
   "display_name": "deeptb-dev",
   "language": "python",
   "name": "python3"
  },
  "language_info": {
   "codemirror_mode": {
    "name": "ipython",
    "version": 3
   },
   "file_extension": ".py",
   "mimetype": "text/x-python",
   "name": "python",
   "nbconvert_exporter": "python",
   "pygments_lexer": "ipython3",
   "version": "3.10.13"
  }
 },
 "nbformat": 4,
 "nbformat_minor": 2
}
