{
 "cells": [
  {
   "cell_type": "markdown",
   "metadata": {},
   "source": [
    "# dftio\n",
    "dftio is to assist machine learning communities in transcribing and manipulating DFT output into a format that is easy to read or used by machine learning models. \n",
    "\n",
    "dftio uses multiprocessing to paralleling the processing, and provide a standard dataset class that reads the processed dataset directly.\n",
    "\n",
    "## Installation\n",
    "The user can install dftio once located in the root directory, and run:\n",
    "```bash\n",
    "pip install .\n",
    "```\n",
    "\n",
    "## Data Parsing\n",
    "The most straight forward using of *dftio* is to parse the DFT output into predefined dataset format. For example, we can run the following script:\n",
    "\n",
    "```bash\n",
    "dftio parse -m abacus -r ./test/data/ -p abacus -o test_parse -ham\n",
    "```\n",
    "\n",
    "The default parsed style looks like:\n",
    "```bash\n",
    "test_parse\n",
    "`-- MoS2.0\n",
    "    |-- atomic_numbers.dat\n",
    "    |-- basis.dat\n",
    "    |-- cell.dat\n",
    "    |-- hamiltonians.h5\n",
    "    |-- pbc.dat\n",
    "    `-- positions.dat\n",
    "```\n",
    "\n",
    "We also support LMDB data format and parrallel parsing, user can run:\n",
    "```bash\n",
    "dftio parse -h\n",
    "```\n",
    "to check out the details parameters."
   ]
  },
  {
   "cell_type": "markdown",
   "metadata": {},
   "source": [
    "## Data Manipulation\n",
    "DFTIO also provide several apis to assists flexble manipulation of the DFT outputs. Here we provide several demos to display the functions:\n",
    "\n",
    "### Field\n",
    "Field object support storing and manipulating a periodic field function."
   ]
  },
  {
   "cell_type": "code",
   "execution_count": 1,
   "metadata": {},
   "outputs": [],
   "source": [
    "from dftio.datastruct import Field\n",
    "import torch\n",
    "\n",
    "# init from script\n",
    "f = Field(\n",
    "    data=torch.randn(10,10,10),\n",
    "    cell=torch.diag(torch.tensor([5.,5.,5.])),\n",
    "    na=10, \n",
    "    nb=10, \n",
    "    nc=10\n",
    ")"
   ]
  },
  {
   "cell_type": "markdown",
   "metadata": {},
   "source": [
    "We can also get a field object from a cube file directly"
   ]
  },
  {
   "cell_type": "code",
   "execution_count": 2,
   "metadata": {},
   "outputs": [],
   "source": [
    "f = Field.from_cube(\"xxx.cube\")"
   ]
  },
  {
   "cell_type": "markdown",
   "metadata": {},
   "source": [
    "the field instance can be use directly as a function that takes one or a list of 3D coordinates"
   ]
  },
  {
   "cell_type": "code",
   "execution_count": 2,
   "metadata": {},
   "outputs": [
    {
     "data": {
      "text/plain": [
       "(tensor([0.3119]),\n",
       " tensor([ 0.6851, -0.0730, -0.3498, -0.0397, -0.0485,  0.3005,  0.1859, -0.3370,\n",
       "         -0.3645,  0.1454]))"
      ]
     },
     "execution_count": 2,
     "metadata": {},
     "output_type": "execute_result"
    }
   ],
   "source": [
    "f([2.,2.,2.]), f(torch.randn(10,3))"
   ]
  },
  {
   "cell_type": "markdown",
   "metadata": {},
   "source": [
    "and it have peridoic boundary conditions defined by the cell"
   ]
  },
  {
   "cell_type": "code",
   "execution_count": 3,
   "metadata": {},
   "outputs": [
    {
     "data": {
      "text/plain": [
       "(tensor([0.3119]), tensor([0.3119]))"
      ]
     },
     "execution_count": 3,
     "metadata": {},
     "output_type": "execute_result"
    }
   ],
   "source": [
    "# and it have peridoic boundary conditions defined by the cell\n",
    "f([2.,2.,2.]), f([2.+f._cell[0,0],2.,2.])"
   ]
  },
  {
   "cell_type": "markdown",
   "metadata": {},
   "source": [
    "We can rotate, shift the field via field functions:"
   ]
  },
  {
   "cell_type": "code",
   "execution_count": 8,
   "metadata": {},
   "outputs": [
    {
     "name": "stdout",
     "output_type": "stream",
     "text": [
      "point before shift tensor([-0.6313])\n",
      "point after shift tensor([0.3119])\n",
      "original point tensor([-0.2991])\n"
     ]
    }
   ],
   "source": [
    "print(\"point before shift\", f([0.,0.,0.]))\n",
    "f.set_origin([1.,1.,1.])\n",
    "print(\"point after shift\", f([0.,0.,0.]))\n",
    "print(\"original point\", f([-1.,-1.,-1.]))"
   ]
  },
  {
   "cell_type": "code",
   "execution_count": 9,
   "metadata": {},
   "outputs": [
    {
     "name": "stdout",
     "output_type": "stream",
     "text": [
      "point on x axis before rotation:  tensor([-0.0051])\n",
      "point on x axis after rotation:  tensor([-0.0051])\n"
     ]
    }
   ],
   "source": [
    "\n",
    "print(\"point on x axis before rotation: \", f([2.,0.,0.]))\n",
    "f.rotate(axis=\"x\", theta=3.14/2)\n",
    "print(\"point on x axis after rotation: \", f([2.,0.,0.]))"
   ]
  },
  {
   "cell_type": "code",
   "execution_count": 25,
   "metadata": {},
   "outputs": [
    {
     "name": "stdout",
     "output_type": "stream",
     "text": [
      "point on y axis before rotation:  tensor([-0.1942])\n",
      "point on y axis after 1st 180 rotation:  tensor([0.8400])\n",
      "point on y axis after 2ed 180 rotation:  tensor([-0.1942])\n"
     ]
    }
   ],
   "source": [
    "import numpy as np\n",
    "print(\"point on y axis before rotation: \", f([0.,2.,0.]))\n",
    "f.rotate(axis=\"x\", theta=np.pi)\n",
    "print(\"point on y axis after 1st 180 rotation: \", f([0.,2.,0.]))\n",
    "f.rotate(axis=\"x\", theta=np.pi)\n",
    "print(\"point on y axis after 2ed 180 rotation: \", f([0.,2.,0.]))"
   ]
  },
  {
   "cell_type": "markdown",
   "metadata": {},
   "source": [
    "The grid of the field can be attained by"
   ]
  },
  {
   "cell_type": "code",
   "execution_count": 10,
   "metadata": {},
   "outputs": [
    {
     "name": "stdout",
     "output_type": "stream",
     "text": [
      "torch.Size([120, 120, 120, 3])\n"
     ]
    }
   ],
   "source": [
    "grids = f.grids\n",
    "print(grids.shape)"
   ]
  },
  {
   "cell_type": "markdown",
   "metadata": {},
   "source": [
    "### Atomic Orbitals\n",
    "The Atomic Orbitals class reads the orbital files from DFT calculation, and returns a atomic orbital functions."
   ]
  },
  {
   "cell_type": "code",
   "execution_count": 1,
   "metadata": {},
   "outputs": [],
   "source": [
    "from dftio.datastruct import AtomicBasis\n",
    "\n",
    "ab = AtomicBasis.from_orbfile(\"./data/Si_gga_6au_100Ry_1s1p.orb\")"
   ]
  },
  {
   "cell_type": "code",
   "execution_count": 3,
   "metadata": {},
   "outputs": [
    {
     "data": {
      "text/plain": [
       "torch.Size([2, 4])"
      ]
     },
     "execution_count": 3,
     "metadata": {},
     "output_type": "execute_result"
    }
   ],
   "source": [
    "ab(torch.randn(2,3)).shape # [n_coordinates, n_orbitals] n_orbitals = 1 * 1 + 1 * 3 = 4"
   ]
  },
  {
   "cell_type": "markdown",
   "metadata": {},
   "source": [
    "### Grid Neighbour List\n",
    "dftio provides a neighbour list search based on kd-tree, storing the neighbouring atoms of grid points."
   ]
  },
  {
   "cell_type": "code",
   "execution_count": 29,
   "metadata": {},
   "outputs": [
    {
     "data": {
      "text/plain": [
       "True"
      ]
     },
     "execution_count": 29,
     "metadata": {},
     "output_type": "execute_result"
    }
   ],
   "source": [
    "from dftio.datastruct import PrimitiveFieldsNeighborList\n",
    "\n",
    "nblist = PrimitiveFieldsNeighborList(\n",
    "    cutoffs=[2.0 for _ in f._atomic_numbers],\n",
    ")\n",
    "\n",
    "nblist.update(\n",
    "    pbc=[True, True, True], \n",
    "    cell=f._cell, \n",
    "    coordinates=f.positions, \n",
    "    grids=f.grids.reshape(-1,3)[:100], # just calculate 100 grid point for testing\n",
    ")"
   ]
  },
  {
   "cell_type": "code",
   "execution_count": 30,
   "metadata": {},
   "outputs": [
    {
     "name": "stdout",
     "output_type": "stream",
     "text": [
      "[3 7 2 6 5] [[-2 -1 -1]\n",
      " [-1 -1 -1]\n",
      " [-2 -1  0]\n",
      " [-1 -1  0]\n",
      " [-1  0 -1]]\n"
     ]
    }
   ],
   "source": [
    "neighbours, R_vec = nblist.get_neighbors(10)\n",
    "print(neighbours, R_vec)"
   ]
  },
  {
   "cell_type": "markdown",
   "metadata": {},
   "source": [
    "Several hybrid functions can be built based on the basic classes, for example:\n",
    "\n",
    "### Composing Atomic Basis\n",
    "$$f(\\vec{r})=\\sum_iw_i\\phi_i(\\vec{r})$$\n",
    "\n",
    "This can be used to calculate for example `wave function`, `local density of states`, or recovering `charge density` after density fitting.\n"
   ]
  },
  {
   "cell_type": "code",
   "execution_count": 133,
   "metadata": {},
   "outputs": [
    {
     "name": "stdout",
     "output_type": "stream",
     "text": [
      "shape of the grid: (100, 100, 5), total number of points: 50000\n"
     ]
    }
   ],
   "source": [
    "\n",
    "from dftio.op import SingleGridIntegrator\n",
    "from dftio.datastruct import AtomicBasis\n",
    "from ase.io import read\n",
    "import torch\n",
    "from dftio.op import make_simple_grid\n",
    "\n",
    "atoms = read(\"./data/silicon.vasp\")\n",
    "\n",
    "box = torch.as_tensor(atoms.cell.array, dtype=torch.float32).max(dim=1).values.diag()\n",
    "box[:2,:2] *= 5\n",
    "\n",
    "n, grids = make_simple_grid(box, 100, 100, 5)\n",
    "print(\"shape of the grid: {0}, total number of points: {1}\".format(n, len(grids)))\n",
    "\n",
    "atomic_basis = {\n",
    "    \"Si\": AtomicBasis.from_orbfile(\"./data/Si_gga_6au_100Ry_1s1p.orb\")\n",
    "}\n",
    "\n",
    "integrator = SingleGridIntegrator(\n",
    "    atomic_numbers=atoms.get_atomic_numbers(), \n",
    "    pbc=atoms.pbc, \n",
    "    cell=atoms.cell.array, \n",
    "    coordinates=atoms.positions, \n",
    "    grids=grids, \n",
    "    atomic_basis=atomic_basis\n",
    ")\n",
    "\n",
    "# this might take a while since the neighbour list need to be built when initializing the integrator"
   ]
  },
  {
   "cell_type": "code",
   "execution_count": 134,
   "metadata": {},
   "outputs": [],
   "source": [
    "weights = torch.zeros((len(atoms), atomic_basis[\"Si\"].irreps.dim))\n",
    "weights[:,0] = 1.0 # just summing over the s-orbital, so each atom will looks like a ball\n",
    "\n",
    "results = integrator.integrate(\n",
    "    weights=weights.flatten(),\n",
    ").reshape(n)"
   ]
  },
  {
   "cell_type": "code",
   "execution_count": 141,
   "metadata": {},
   "outputs": [
    {
     "data": {
      "text/plain": [
       "[]"
      ]
     },
     "execution_count": 141,
     "metadata": {},
     "output_type": "execute_result"
    },
    {
     "data": {
      "image/png": "[encoded data removed]",
      "text/plain": [
       "<Figure size 640x480 with 2 Axes>"
      ]
     },
     "metadata": {},
     "output_type": "display_data"
    }
   ],
   "source": [
    "import matplotlib.pyplot as plt\n",
    "import matplotlib as mpl\n",
    "\n",
    "iz = 3\n",
    "norm = mpl.colors.Normalize(vmin=results.min(), vmax=results.max())\n",
    "ax = plt.axes(xlim=(0.,box[0,0]), ylim=(0,box[1,1]))\n",
    "X = torch.linspace(0.0, box[0].norm(), n[0])\n",
    "Y = torch.linspace(0.0, box[1].norm(), n[1])\n",
    "pc = ax.pcolor(X,Y,results[:,:,iz].T, cmap=\"Blues\", norm=norm)\n",
    "plt.colorbar(pc, ax=ax)\n",
    "plt.plot()"
   ]
  }
 ],
 "metadata": {
  "kernelspec": {
   "display_name": "deeptb",
   "language": "python",
   "name": "python3"
  },
  "language_info": {
   "codemirror_mode": {
    "name": "ipython",
    "version": 3
   },
   "file_extension": ".py",
   "mimetype": "text/x-python",
   "name": "python",
   "nbconvert_exporter": "python",
   "pygments_lexer": "ipython3",
   "version": "3.8.13"
  }
 },
 "nbformat": 4,
 "nbformat_minor": 2
}
